{
 "cells": [
  {
   "cell_type": "markdown",
   "metadata": {
    "slideshow": {
     "slide_type": "slide"
    }
   },
   "source": [
    "# Problem Statement\n",
    "\n",
    "BMTC's route data-set provides information of various bus routes, bus stops covered, and the duration of the trip from origin to destination.  How good are these estimates of the trip duration?  Can we suggest improvements to the schedule based on the duration of trips in different hours of the day?"
   ]
  },
  {
   "cell_type": "markdown",
   "metadata": {
    "slideshow": {
     "slide_type": "slide"
    }
   },
   "source": [
    "# Motivation\n",
    "\n",
    "Have you ever tried to use Google to get bus timings and estimated travel duration using public transport in Bangalore?  In many cases, it would give you clearly incorrect results.  "
   ]
  },
  {
   "cell_type": "markdown",
   "metadata": {
    "slideshow": {
     "slide_type": "subslide"
    }
   },
   "source": [
    "For instance, the images below show the travel times from Jayanagar to Majestic\n",
    "\n",
    "Google estimates a (car) ride from 4th Block Jayanagar to Majestic to take 33 minutes. Also, notice the traffic and the route taken.\n",
    "\n",
    "\n",
    "<img src=\"img/car.png\" style=\"height: 400px\" title=\"car\" height=400 />"
   ]
  },
  {
   "cell_type": "markdown",
   "metadata": {
    "slideshow": {
     "slide_type": "subslide"
    }
   },
   "source": [
    "The same route, Google claims, can be covered in 35 minutes in a bus, which includes a 9 minute walk. Also, notice that the traffic doesn't have any reds and oranges!\n",
    "\n",
    "<img src=\"img/bus.png\" style=\"height: 400px\" title=\"bus\" height=400 />"
   ]
  },
  {
   "cell_type": "markdown",
   "metadata": {
    "slideshow": {
     "slide_type": "subslide"
    }
   },
   "source": [
    "Google seems to be just using the planned duration of trips provided by BMTC to estimate the duration of a trip. This is **evidently wrong**, and discourages me from taking a bus when I have to get somewhere on time. Can we help improve this situation? "
   ]
  },
  {
   "cell_type": "markdown",
   "metadata": {
    "slideshow": {
     "slide_type": "fragment"
    }
   },
   "source": [
    "Also, it is common knowledge that trips between the same origins and destinations take different times based on the time of the day. BMTC's single estimate of a trip duration isn't helping people plan their trips effectively!"
   ]
  },
  {
   "cell_type": "markdown",
   "metadata": {
    "slideshow": {
     "slide_type": "slide"
    }
   },
   "source": [
    "# Approach\n",
    "\n",
    "Uber's [movement dataset](https://movement.uber.com/) for Bangalore provides various statistics about travel time duration between pairs of [wards in Bangalore](https://en.wikipedia.org/wiki/List_of_wards_in_Bangalore), by the hour of day.\n",
    "\n",
    "BMTC's bus route data provides the list of bus-stops on each route, along with latitude/longitude information for those bus stops. \n",
    "\n",
    "We attempt to use these two datasets to get a sense of how accurate BMTC's estimates of trip duration are, and to help them improve these esitmates if possible. "
   ]
  },
  {
   "cell_type": "markdown",
   "metadata": {
    "slideshow": {
     "slide_type": "subslide"
    }
   },
   "source": [
    "## Details\n",
    "\n",
    "To be able to estimate roughly each route's trip duration, we do the following. \n",
    "\n",
    "1. Pick a route, and get a list of bus stops on that route. \n",
    "1. For each bus stop, figure out the ward name/number in which it lies. Uber's data gives us mean travel times between wards. \n",
    "1. Simplify the route to be a hop between wards, instead of hops between bus stops. We group all bus stops within a ward as one hop. \n",
    "1. Use Uber's data to get the mean travel time between consecutive wards on the route and add it up to get a *very very* rough estimate of the duration of the trip. \n",
    "1. Repeat this for all the routes and get a sense of how accurate/inaccurate the BMTC trip durations are."
   ]
  },
  {
   "cell_type": "markdown",
   "metadata": {
    "slideshow": {
     "slide_type": "slide"
    }
   },
   "source": [
    "## Code"
   ]
  },
  {
   "cell_type": "code",
   "execution_count": 1,
   "metadata": {
    "slideshow": {
     "slide_type": "fragment"
    }
   },
   "outputs": [],
   "source": [
    "import pandas as pd\n",
    "from utils import get_bmtc_routes, get_uber_travel_time, get_ward, route_to_wards\n",
    "\n",
    "data = get_bmtc_routes()"
   ]
  },
  {
   "cell_type": "markdown",
   "metadata": {
    "slideshow": {
     "slide_type": "fragment"
    }
   },
   "source": [
    "BMTC's data provides bus stops on the route as `json` list, the time for the route, and the route number. Below is a sample of what the data looks like. "
   ]
  },
  {
   "cell_type": "code",
   "execution_count": 2,
   "metadata": {
    "scrolled": true,
    "slideshow": {
     "slide_type": "fragment"
    }
   },
   "outputs": [
    {
     "data": {
      "text/html": [
       "<div>\n",
       "<style scoped>\n",
       "    .dataframe tbody tr th:only-of-type {\n",
       "        vertical-align: middle;\n",
       "    }\n",
       "\n",
       "    .dataframe tbody tr th {\n",
       "        vertical-align: top;\n",
       "    }\n",
       "\n",
       "    .dataframe thead th {\n",
       "        text-align: right;\n",
       "    }\n",
       "</style>\n",
       "<table border=\"1\" class=\"dataframe\">\n",
       "  <thead>\n",
       "    <tr style=\"text-align: right;\">\n",
       "      <th></th>\n",
       "      <th>route_no</th>\n",
       "      <th>time</th>\n",
       "      <th>map_json_content</th>\n",
       "    </tr>\n",
       "  </thead>\n",
       "  <tbody>\n",
       "    <tr>\n",
       "      <th>0</th>\n",
       "      <td>1</td>\n",
       "      <td>01:25 Min.</td>\n",
       "      <td>[{\"busstop\": \"Jayanagara 9th Block,JAYANAGARA ...</td>\n",
       "    </tr>\n",
       "    <tr>\n",
       "      <th>1</th>\n",
       "      <td>1E</td>\n",
       "      <td>01:45 Min.</td>\n",
       "      <td>[{\"busstop\": \"JPNagara 6th Phase,JP NAGARA 6TH...</td>\n",
       "    </tr>\n",
       "    <tr>\n",
       "      <th>2</th>\n",
       "      <td>1F</td>\n",
       "      <td>00:50 Min.</td>\n",
       "      <td>[{\"busstop\": \"BTM Layout,BTM Layout 2nd Stage,...</td>\n",
       "    </tr>\n",
       "  </tbody>\n",
       "</table>\n",
       "</div>"
      ],
      "text/plain": [
       "  route_no        time                                   map_json_content\n",
       "0        1  01:25 Min.  [{\"busstop\": \"Jayanagara 9th Block,JAYANAGARA ...\n",
       "1       1E  01:45 Min.  [{\"busstop\": \"JPNagara 6th Phase,JP NAGARA 6TH...\n",
       "2       1F  00:50 Min.  [{\"busstop\": \"BTM Layout,BTM Layout 2nd Stage,..."
      ]
     },
     "execution_count": 2,
     "metadata": {},
     "output_type": "execute_result"
    }
   ],
   "source": [
    "data[:3][['route_no', 'time', 'map_json_content']]"
   ]
  },
  {
   "cell_type": "code",
   "execution_count": 3,
   "metadata": {
    "slideshow": {
     "slide_type": "subslide"
    }
   },
   "outputs": [],
   "source": [
    "travel_time_data = get_uber_travel_time()"
   ]
  },
  {
   "cell_type": "markdown",
   "metadata": {
    "slideshow": {
     "slide_type": "fragment"
    }
   },
   "source": [
    "Uber provides the mean travel times between two wards, at different hours of the day. "
   ]
  },
  {
   "cell_type": "code",
   "execution_count": 4,
   "metadata": {
    "slideshow": {
     "slide_type": "fragment"
    }
   },
   "outputs": [
    {
     "data": {
      "text/html": [
       "<div>\n",
       "<style scoped>\n",
       "    .dataframe tbody tr th:only-of-type {\n",
       "        vertical-align: middle;\n",
       "    }\n",
       "\n",
       "    .dataframe tbody tr th {\n",
       "        vertical-align: top;\n",
       "    }\n",
       "\n",
       "    .dataframe thead th {\n",
       "        text-align: right;\n",
       "    }\n",
       "</style>\n",
       "<table border=\"1\" class=\"dataframe\">\n",
       "  <thead>\n",
       "    <tr style=\"text-align: right;\">\n",
       "      <th></th>\n",
       "      <th>sourceid</th>\n",
       "      <th>dstid</th>\n",
       "      <th>hod</th>\n",
       "      <th>mean_travel_time</th>\n",
       "    </tr>\n",
       "  </thead>\n",
       "  <tbody>\n",
       "    <tr>\n",
       "      <th>0</th>\n",
       "      <td>1</td>\n",
       "      <td>1</td>\n",
       "      <td>23</td>\n",
       "      <td>371.44</td>\n",
       "    </tr>\n",
       "    <tr>\n",
       "      <th>1</th>\n",
       "      <td>1</td>\n",
       "      <td>2</td>\n",
       "      <td>2</td>\n",
       "      <td>233.39</td>\n",
       "    </tr>\n",
       "    <tr>\n",
       "      <th>2</th>\n",
       "      <td>1</td>\n",
       "      <td>2</td>\n",
       "      <td>7</td>\n",
       "      <td>333.99</td>\n",
       "    </tr>\n",
       "  </tbody>\n",
       "</table>\n",
       "</div>"
      ],
      "text/plain": [
       "   sourceid  dstid  hod  mean_travel_time\n",
       "0         1      1   23            371.44\n",
       "1         1      2    2            233.39\n",
       "2         1      2    7            333.99"
      ]
     },
     "execution_count": 4,
     "metadata": {},
     "output_type": "execute_result"
    }
   ],
   "source": [
    "travel_time_data[:3][['sourceid', 'dstid', 'hod', 'mean_travel_time']]"
   ]
  },
  {
   "cell_type": "code",
   "execution_count": 5,
   "metadata": {
    "slideshow": {
     "slide_type": "subslide"
    }
   },
   "outputs": [],
   "source": [
    "def mean_time(ttd, src, dst):\n",
    "    \"\"\"Return mean travel time between a src and dst ward\n",
    "    \n",
    "    ttd is the data from Uber's data set. \n",
    "    \"\"\"\n",
    "    src_data = ttd[ttd.sourceid == src[0]]\n",
    "    data = src_data[src_data.dstid == dst[0]]\n",
    "    return data.mean_travel_time.mean()"
   ]
  },
  {
   "cell_type": "code",
   "execution_count": 6,
   "metadata": {
    "slideshow": {
     "slide_type": "fragment"
    }
   },
   "outputs": [],
   "source": [
    "def mean_route_time(ward_list, ttd):\n",
    "    pairs = list(zip(ward_list[:-1], ward_list[1:]))\n",
    "    mean_times = [mean_time(ttd, *pair) for pair in pairs]\n",
    "    return mean_times"
   ]
  },
  {
   "cell_type": "code",
   "execution_count": 7,
   "metadata": {
    "slideshow": {
     "slide_type": "fragment"
    }
   },
   "outputs": [],
   "source": [
    "def estimate_travel_time(route, travel_time_data):\n",
    "    wards = route_to_wards(route)\n",
    "    means = pd.Series(mean_route_time(wards, travel_time_data))\n",
    "    missing_data = means.hasnans\n",
    "    total_minutes = int(means.sum()/60)\n",
    "    hours = int(total_minutes / 60)\n",
    "    minutes = total_minutes % 60\n",
    "    return (hours, minutes), missing_data"
   ]
  },
  {
   "cell_type": "code",
   "execution_count": 8,
   "metadata": {
    "slideshow": {
     "slide_type": "subslide"
    }
   },
   "outputs": [
    {
     "name": "stdout",
     "output_type": "stream",
     "text": [
      " Route no. --    BMTC    || Uber estimate\n",
      "         1 -- 01:25 Min. || 04:27 Min.\n",
      "        1E -- 01:45 Min. || 07:12 Min.\n",
      "        1F -- 00:50 Min. || 02:46 Min.\n",
      "     CCC-1 -- 00:55 Min. || 00:49 Min.\n",
      "     FDR-1 -- 01:20 Min. || 04:48 Min.\n",
      "       G-1 -- 01:35 Min. || 01:29 Min.\n",
      "       K-1 -- 02:10 Min. || 04:45 Min.\n",
      "     KHC-1 -- 00:50 Min. || 00:49 Min.*\n",
      "      MF-1 -- 00:55 Min. || 00:38 Min.\n",
      "    NLMF-1 -- 00:35 Min. || 01:02 Min.*\n",
      "     WFS-1 -- 00:55 Min. || 01:01 Min.\n",
      "         2 -- 00:45 Min. || 04:22 Min.\n",
      "        2A -- 00:45 Min. || 04:03 Min.\n",
      "        2B -- 00:50 Min. || 05:16 Min.\n",
      "        2D -- 00:40 Min. || 04:32 Min.\n",
      "* implies data for travel time for some ward pairs is missing\n"
     ]
    }
   ],
   "source": [
    "print('{:>10} -- {:^10} || {}'.format('Route no.', 'BMTC', 'Uber estimate'))\n",
    "for index in range(15):\n",
    "    r = data.loc[index]\n",
    "    try:\n",
    "        (hours, minutes), missing_data = estimate_travel_time(r, travel_time_data)\n",
    "    except TypeError:\n",
    "        continue\n",
    "    end = '*\\n' if missing_data else '\\n'\n",
    "    print('{:>10} -- {} || {:02}:{:02} Min.'.format(r.route_no.strip(), r.time.strip(), hours, minutes), end=end)\n",
    "print('* implies data for travel time for some ward pairs is missing')"
   ]
  },
  {
   "cell_type": "markdown",
   "metadata": {
    "slideshow": {
     "slide_type": "subslide"
    }
   },
   "source": [
    "For the first few routes in the BMTC dataset, we compare the BMTC provided durations against our estimates using the Uber data.  Wow! Some of our estimates are 3-4 times the estimates given by BMTC. What's going on here?"
   ]
  },
  {
   "cell_type": "markdown",
   "metadata": {
    "slideshow": {
     "slide_type": "fragment"
    }
   },
   "source": [
    "Let's dig a little deeper, and see why our estimate for the first route looks the way it does!"
   ]
  },
  {
   "cell_type": "code",
   "execution_count": 9,
   "metadata": {
    "slideshow": {
     "slide_type": "subslide"
    }
   },
   "outputs": [],
   "source": [
    "route = data.loc[0]"
   ]
  },
  {
   "cell_type": "code",
   "execution_count": 10,
   "metadata": {
    "slideshow": {
     "slide_type": "fragment"
    }
   },
   "outputs": [
    {
     "data": {
      "text/plain": [
       "[(168, 'Pattabhiram Nagar'),\n",
       " (169, 'Byrasandra'),\n",
       " (167, 'Yediyur'),\n",
       " (154, 'Basavanagudi'),\n",
       " (142, 'Sunkenahalli'),\n",
       " (140, 'Chamrajapet'),\n",
       " (139, 'K R Market'),\n",
       " (138, 'Chalavadipalya'),\n",
       " (95, 'Subhash Nagar'),\n",
       " (94, 'Gandhinagar'),\n",
       " (65, 'Kadu Malleshwar Ward'),\n",
       " (35, 'Aramane Nagara'),\n",
       " (45, 'Malleswaram'),\n",
       " (44, 'Marappana Palya'),\n",
       " (38, 'HMT Ward')]"
      ]
     },
     "execution_count": 10,
     "metadata": {},
     "output_type": "execute_result"
    }
   ],
   "source": [
    "route_1_wards = route_to_wards(route)\n",
    "route_1_wards"
   ]
  },
  {
   "cell_type": "markdown",
   "metadata": {
    "slideshow": {
     "slide_type": "subslide"
    }
   },
   "source": [
    "We fetch the wards for each bus stop and get a unique list of ward-hops on the bus route.  They seem reasonable, on manual verification. "
   ]
  },
  {
   "cell_type": "code",
   "execution_count": 11,
   "metadata": {
    "slideshow": {
     "slide_type": "fragment"
    }
   },
   "outputs": [
    {
     "name": "stdout",
     "output_type": "stream",
     "text": [
      "                From-->To                   : Time (secs)\n",
      "   Pattabhiram Nagar-->Byrasandra           :  567\n",
      "          Byrasandra-->Yediyur              :  670\n",
      "             Yediyur-->Basavanagudi         : 3062\n",
      "        Basavanagudi-->Sunkenahalli         : 1282\n",
      "        Sunkenahalli-->Chamrajapet          :  782\n",
      "         Chamrajapet-->K R Market           :  352\n",
      "          K R Market-->Chalavadipalya       :  188\n",
      "      Chalavadipalya-->Subhash Nagar        : 1250\n",
      "       Subhash Nagar-->Gandhinagar          :  738\n",
      "         Gandhinagar-->Kadu Malleshwar Ward : 1461\n",
      "Kadu Malleshwar Ward-->Aramane Nagara       : 2576\n",
      "      Aramane Nagara-->Malleswaram          : 1607\n",
      "         Malleswaram-->Marappana Palya      : 1037\n",
      "     Marappana Palya-->HMT Ward             :  495\n"
     ]
    }
   ],
   "source": [
    "route_1_mean_times = mean_route_time(route_1_wards, travel_time_data)\n",
    "ward_pairs = list(zip(route_1_wards[:-1], route_1_wards[1:]))\n",
    "print('{:>20}-->{:<20} : {}'.format('From', 'To', 'Time (secs)'))\n",
    "for (src, dst), time in zip(ward_pairs, route_1_mean_times):\n",
    "    print('{:>20}-->{:<20} : {:4.0f}'.format(src[1], dst[1], time))"
   ]
  },
  {
   "cell_type": "markdown",
   "metadata": {
    "slideshow": {
     "slide_type": "subslide"
    }
   },
   "source": [
    "All the times are in seconds -- 5 minutes is 300 seconds, 30 minutes is 1800. \n",
    "\n",
    "**Given that these are wards on a bus route, each ward lies next to each other**. \n",
    "\n",
    "This implies that the average travel times between wards shouldn't be very long. Depending on the size of the two wards, the average travel times can very between wards, but anything between 30 minutes to an hour, starts to look suspicious!\n",
    "\n",
    "The above route has 2 such hops - `Kadu Malleshwar Ward-->Aramane Nagara` and `Yediyur-->Basavanagudi`. It has 6 hops which are over 20 minutes. \n",
    "\n",
    "Let's look at what Uber's visualization of this data looks like."
   ]
  },
  {
   "cell_type": "markdown",
   "metadata": {
    "slideshow": {
     "slide_type": "subslide"
    }
   },
   "source": [
    "Uber's visualisation shows that the mean time is about 5 minutes for Kadu Malleshwar Ward to Armane Nagara.\n",
    "\n",
    "![Kadu Malleshwar Ward to Armane Nagara](img/uber-travel-time-kmw-anw.png)\n",
    "\n",
    "The data provided for download is somehow biased? Or broken? "
   ]
  },
  {
   "cell_type": "markdown",
   "metadata": {
    "slideshow": {
     "slide_type": "subslide"
    }
   },
   "source": [
    "Similarly, the mean time is about 4 minutes for Yediyur to Basavanagudi\n",
    "\n",
    "![Yediyur to Basavanagudi](img/uber-travel-time-yw-bw.png)"
   ]
  },
  {
   "cell_type": "markdown",
   "metadata": {
    "slideshow": {
     "slide_type": "subslide"
    }
   },
   "source": [
    "Let's see if using a different dump of the data would help us see if we can find out what's going on."
   ]
  },
  {
   "cell_type": "markdown",
   "metadata": {
    "slideshow": {
     "slide_type": "fragment"
    }
   },
   "source": [
    "The above estimates were made using data from the **last quarter of 2018**. Let's try to see if we see similar problems when using other data, say the **second quarter of 2016**. "
   ]
  },
  {
   "cell_type": "code",
   "execution_count": 12,
   "metadata": {
    "slideshow": {
     "slide_type": "subslide"
    }
   },
   "outputs": [
    {
     "name": "stdout",
     "output_type": "stream",
     "text": [
      " Route no. --    BMTC    || Uber estimate\n",
      "         1 -- 01:25 Min. || 04:15 Min.*\n",
      "        1E -- 01:45 Min. || 07:17 Min.*\n",
      "        1F -- 00:50 Min. || 02:53 Min.\n",
      "     CCC-1 -- 00:55 Min. || 00:52 Min.\n",
      "     FDR-1 -- 01:20 Min. || 05:12 Min.\n",
      "       G-1 -- 01:35 Min. || 01:41 Min.\n",
      "       K-1 -- 02:10 Min. || 05:39 Min.\n",
      "     KHC-1 -- 00:50 Min. || 00:54 Min.*\n",
      "      MF-1 -- 00:55 Min. || 00:42 Min.\n",
      "    NLMF-1 -- 00:35 Min. || 01:08 Min.*\n",
      "     WFS-1 -- 00:55 Min. || 01:03 Min.\n",
      "         2 -- 00:45 Min. || 04:48 Min.\n",
      "        2A -- 00:45 Min. || 04:26 Min.\n",
      "        2B -- 00:50 Min. || 05:44 Min.\n",
      "        2D -- 00:40 Min. || 05:00 Min.\n",
      "* implies data for travel time for some ward pairs is missing\n"
     ]
    }
   ],
   "source": [
    "travel_time_data = pd.read_csv('data/bangalore-wards-2016-2-All-HourlyAggregate.csv')\n",
    "print('{:>10} -- {:^10} || {}'.format('Route no.', 'BMTC', 'Uber estimate'))\n",
    "for index in range(15):\n",
    "    r = data.loc[index]\n",
    "    try:\n",
    "        (hours, minutes), missing_data = estimate_travel_time(r, travel_time_data)\n",
    "    except TypeError:\n",
    "        continue\n",
    "    end = '*\\n' if missing_data else '\\n'\n",
    "    print('{:>10} -- {} || {:02}:{:02} Min.'.format(r.route_no.strip(), r.time.strip(), hours, minutes), end=end)\n",
    "print('* implies data for travel time for some ward pairs is missing')"
   ]
  },
  {
   "cell_type": "markdown",
   "metadata": {
    "slideshow": {
     "slide_type": "subslide"
    }
   },
   "source": [
    "We see that similar routes have similar errors in the estimates even with older data. Let's look at the same route no. 1 and see what the estimated times between wards look like. Yediyur to Basavanagudi is again over 50 minutes!"
   ]
  },
  {
   "cell_type": "code",
   "execution_count": 13,
   "metadata": {
    "slideshow": {
     "slide_type": "fragment"
    }
   },
   "outputs": [
    {
     "name": "stdout",
     "output_type": "stream",
     "text": [
      "                From-->To                   : Time (secs)\n",
      "   Pattabhiram Nagar-->Byrasandra           :  573\n",
      "          Byrasandra-->Yediyur              :  740\n",
      "             Yediyur-->Basavanagudi         : 3240\n",
      "        Basavanagudi-->Sunkenahalli         : 1350\n",
      "        Sunkenahalli-->Chamrajapet          :  860\n",
      "         Chamrajapet-->K R Market           :  352\n",
      "          K R Market-->Chalavadipalya       :  181\n",
      "      Chalavadipalya-->Subhash Nagar        : 1638\n",
      "       Subhash Nagar-->Gandhinagar          :  995\n",
      "         Gandhinagar-->Kadu Malleshwar Ward : 1630\n",
      "Kadu Malleshwar Ward-->Aramane Nagara       :  nan\n",
      "      Aramane Nagara-->Malleswaram          : 1949\n",
      "         Malleswaram-->Marappana Palya      : 1201\n",
      "     Marappana Palya-->HMT Ward             :  623\n"
     ]
    }
   ],
   "source": [
    "route_1_mean_times = mean_route_time(route_1_wards, travel_time_data)\n",
    "ward_pairs = list(zip(route_1_wards[:-1], route_1_wards[1:]))\n",
    "print('{:>20}-->{:<20} : {}'.format('From', 'To', 'Time (secs)'))\n",
    "for (src, dst), time in zip(ward_pairs, route_1_mean_times):\n",
    "    print('{:>20}-->{:<20} : {:4.0f}'.format(src[1], dst[1], time))"
   ]
  },
  {
   "cell_type": "markdown",
   "metadata": {
    "slideshow": {
     "slide_type": "subslide"
    }
   },
   "source": [
    "And let's look at what Uber's visualization of this data tells us\n",
    "\n",
    "<img src=\"img/uber-travel-time-yw-bw-2016-2.png\" style=\"height: 400px\" title=\"Yediyur to Basavanagudi (2016 Q2)\" height=400 />\n",
    "\n",
    "Again, Uber gives us a range of 4 to 11 minutes, and gives us a daily average of about 6 and a half minutes. But, this is what the data in the data-dump looks like. "
   ]
  },
  {
   "cell_type": "code",
   "execution_count": 14,
   "metadata": {
    "slideshow": {
     "slide_type": "subslide"
    }
   },
   "outputs": [
    {
     "name": "stdout",
     "output_type": "stream",
     "text": [
      "  \"Basavanagudi\": \"154\"\n",
      "  \"Yediyur\": \"167\"\n",
      "167,154,2031.17\n",
      "167,154,4448.83\n",
      "167,154,2863.98\n",
      "167,154,4083.02\n",
      "167,154,1843.87\n",
      "167,154,2110.06\n",
      "167,154,3261.44\n",
      "167,154,4098.44\n",
      "167,154,3019.62\n",
      "167,154,1895.13\n",
      "167,154,1962.89\n",
      "167,154,3879.9\n",
      "167,154,3418.7\n",
      "167,154,3368.02\n",
      "167,154,1758.77\n",
      "167,154,3522.11\n",
      "167,154,3193.04\n",
      "167,154,4489.85\n",
      "167,154,2493.99\n",
      "167,154,1875.14\n",
      "167,154,4473.59\n",
      "167,154,2921.35\n",
      "167,154,4399.07\n",
      "167,154,2083.04\n"
     ]
    }
   ],
   "source": [
    "!cat data/bangalore_wards.json |jq \".features[].properties\"| jq '{(.WARD_NAME): .WARD_NO}'|grep -P \"Yediyur|Basavanagudi\"\n",
    "!grep ^167,154 data/bangalore-wards-2018-4-All-HourlyAggregate.csv|cut -d , -f 1,2,4"
   ]
  },
  {
   "cell_type": "markdown",
   "metadata": {
    "slideshow": {
     "slide_type": "subslide"
    }
   },
   "source": [
    "All the average times for Yediyur to Basavanagudi are in 1000s of seconds and none of them even seem to fall in the range that Uber's site shows (4 to 11 minutes).  There's definitely something fishy with the data, and Uber is evidently not using the dumps but directly fetching data from their servers based on the query. "
   ]
  },
  {
   "cell_type": "markdown",
   "metadata": {
    "slideshow": {
     "slide_type": "subslide"
    }
   },
   "source": [
    "The travel time between `Basavanagudi` and `Yediyur` (the opposite direction) also looks similar, and doesn't really fall in the range provided by Uber in their visualization. "
   ]
  },
  {
   "cell_type": "code",
   "execution_count": 15,
   "metadata": {
    "slideshow": {
     "slide_type": "fragment"
    }
   },
   "outputs": [
    {
     "name": "stdout",
     "output_type": "stream",
     "text": [
      "154,167,1840.28\r\n",
      "154,167,4107.67\r\n",
      "154,167,2685.95\r\n",
      "154,167,3819.25\r\n",
      "154,167,1987.19\r\n",
      "154,167,2303.5\r\n",
      "154,167,3117.83\r\n",
      "154,167,3486.45\r\n",
      "154,167,2987.1\r\n",
      "154,167,2016.32\r\n",
      "154,167,1937.06\r\n",
      "154,167,3320.76\r\n",
      "154,167,3031.49\r\n",
      "154,167,3293.29\r\n",
      "154,167,1722.53\r\n",
      "154,167,3266.7\r\n",
      "154,167,2976.16\r\n",
      "154,167,3852.05\r\n",
      "154,167,2537.02\r\n",
      "154,167,1937.61\r\n",
      "154,167,4118.23\r\n",
      "154,167,2738.16\r\n",
      "154,167,4003.55\r\n",
      "154,167,2158.65\r\n"
     ]
    }
   ],
   "source": [
    "!grep ^154,167 data/bangalore-wards-2018-4-All-HourlyAggregate.csv|cut -d , -f 1,2,4"
   ]
  },
  {
   "cell_type": "markdown",
   "metadata": {
    "slideshow": {
     "slide_type": "slide"
    }
   },
   "source": [
    "# Summary\n",
    "\n",
    "We attempted to audit the travel duration estimates by BMTC using Uber's travel time data between wards. But, the audit found problems in the data export files provided by Uber, and any further analysis on this wouldn't be meaningful. Uber's [website](movement.uber.com) itself seems to fetch data directly from their servers, and gives much better estimates. \n",
    "\n",
    "Follow-up work on this could try to use Uber's APIs to fetch the data and use that to improve the BMTC estimates. There'd be hundreds of API calls to fetch data for travel times between pairs of wards. But, we would only need to get data for travel times between neighboring wards, and not wards that have other wards between them. This would reduce the size of data to be fetched drastically. "
   ]
  }
 ],
 "metadata": {
  "celltoolbar": "Slideshow",
  "kernelspec": {
   "display_name": "Python 3",
   "language": "python",
   "name": "python3"
  },
  "language_info": {
   "codemirror_mode": {
    "name": "ipython",
    "version": 3
   },
   "file_extension": ".py",
   "mimetype": "text/x-python",
   "name": "python",
   "nbconvert_exporter": "python",
   "pygments_lexer": "ipython3",
   "version": "3.7.3"
  }
 },
 "nbformat": 4,
 "nbformat_minor": 2
}
