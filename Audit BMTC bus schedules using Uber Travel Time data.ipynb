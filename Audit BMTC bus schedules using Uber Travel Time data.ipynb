{
 "cells": [
  {
   "cell_type": "markdown",
   "metadata": {
    "slideshow": {
     "slide_type": "slide"
    }
   },
   "source": [
    "# Problem Statement\n",
    "\n",
    "BMTC's route data-set provides information of various bus routes, bus stops covered, and the duration of the trip from origin to destination.  How good are these estimates of the trip duration?  Can we suggest improvements to the schedule based on the duration of trips in different hours of the day?"
   ]
  },
  {
   "cell_type": "markdown",
   "metadata": {
    "slideshow": {
     "slide_type": "slide"
    }
   },
   "source": [
    "# Motivation\n",
    "\n",
    "Have you ever tried to use Google to get bus timings and estimated travel duration using public transport in Bangalore?  In many cases, it would give you clearly incorrect results.  "
   ]
  },
  {
   "cell_type": "markdown",
   "metadata": {
    "slideshow": {
     "slide_type": "subslide"
    }
   },
   "source": [
    "For instance, the images below show the travel times from Jayanagar to Majestic\n",
    "\n",
    "Google estimates a (car) ride from 4th Block Jayanagar to Majestic to take 33 minutes. Also, notice the traffic and the route taken.\n",
    "\n",
    "\n",
    "<img src=\"img/car.png\" style=\"height: 400px\" title=\"car\" height=400 />"
   ]
  },
  {
   "cell_type": "markdown",
   "metadata": {
    "slideshow": {
     "slide_type": "subslide"
    }
   },
   "source": [
    "The same route, Google claims, can be covered in 35 minutes in a bus, which includes a 9 minute walk. Also, notice that the traffic doesn't have any reds and oranges!\n",
    "\n",
    "<img src=\"img/bus.png\" style=\"height: 400px\" title=\"bus\" height=400 />"
   ]
  },
  {
   "cell_type": "markdown",
   "metadata": {
    "slideshow": {
     "slide_type": "subslide"
    }
   },
   "source": [
    "Google seems to be just using the planned duration of trips provided by BMTC to estimate the duration of a trip. This is **evidently wrong**, and discourages me from taking a bus when I have to get somewhere on time. Can we help improve this situation? "
   ]
  },
  {
   "cell_type": "markdown",
   "metadata": {
    "slideshow": {
     "slide_type": "fragment"
    }
   },
   "source": [
    "Also, it is common knowledge that trips between the same origins and destinations take different times based on the time of the day. BMTC's single estimate of a trip duration isn't helping people plan their trips effectively!"
   ]
  },
  {
   "cell_type": "markdown",
   "metadata": {
    "slideshow": {
     "slide_type": "slide"
    }
   },
   "source": [
    "# Approach\n",
    "\n",
    "Uber's [movement dataset](https://movement.uber.com/) for Bangalore provides various statistics about travel time duration between pairs of [wards in Bangalore](https://en.wikipedia.org/wiki/List_of_wards_in_Bangalore), by the hour of day.\n",
    "\n",
    "BMTC's bus route data provides the list of bus-stops on each route, along with latitude/longitude information for those bus stops. \n",
    "\n",
    "We attempt to use these two datasets to get a sense of how accurate BMTC's estimates of trip duration are, and to help them improve these esitmates if possible. "
   ]
  },
  {
   "cell_type": "markdown",
   "metadata": {
    "slideshow": {
     "slide_type": "subslide"
    }
   },
   "source": [
    "## Details\n",
    "\n",
    "To be able to estimate roughly each route's trip duration, we do the following. \n",
    "\n",
    "1. Pick a route, and get a list of bus stops on that route. \n",
    "1. For each bus stop, figure out the ward name/number in which it lies. Uber's data gives us mean travel times between wards. \n",
    "1. Simplify the route to be a hop between wards, instead of hops between bus stops. We group all bus stops within a ward as one hop. \n",
    "1. Use Uber's data to get the mean travel time between consecutive wards on the route and add it up to get a *very very* rough estimate of the duration of the trip. \n",
    "1. Repeat this for all the routes and get a sense of how accurate/inaccurate the BMTC trip durations are."
   ]
  },
  {
   "cell_type": "markdown",
   "metadata": {
    "slideshow": {
     "slide_type": "slide"
    }
   },
   "source": [
    "## Code"
   ]
  },
  {
   "cell_type": "code",
   "execution_count": 1,
   "metadata": {
    "slideshow": {
     "slide_type": "fragment"
    }
   },
   "outputs": [],
   "source": [
    "import pandas as pd\n",
    "from utils import get_bmtc_routes, route_to_wards, estimate_travel_time\n",
    "\n",
    "data = get_bmtc_routes()"
   ]
  },
  {
   "cell_type": "markdown",
   "metadata": {
    "slideshow": {
     "slide_type": "fragment"
    }
   },
   "source": [
    "BMTC's data provides bus stops on the route as `json` list, the time for the route, and the route number. Below is a sample of what the data looks like. "
   ]
  },
  {
   "cell_type": "code",
   "execution_count": 2,
   "metadata": {
    "scrolled": true,
    "slideshow": {
     "slide_type": "fragment"
    }
   },
   "outputs": [
    {
     "data": {
      "text/html": [
       "<div>\n",
       "<style scoped>\n",
       "    .dataframe tbody tr th:only-of-type {\n",
       "        vertical-align: middle;\n",
       "    }\n",
       "\n",
       "    .dataframe tbody tr th {\n",
       "        vertical-align: top;\n",
       "    }\n",
       "\n",
       "    .dataframe thead th {\n",
       "        text-align: right;\n",
       "    }\n",
       "</style>\n",
       "<table border=\"1\" class=\"dataframe\">\n",
       "  <thead>\n",
       "    <tr style=\"text-align: right;\">\n",
       "      <th></th>\n",
       "      <th>route_no</th>\n",
       "      <th>time</th>\n",
       "      <th>map_json_content</th>\n",
       "    </tr>\n",
       "  </thead>\n",
       "  <tbody>\n",
       "    <tr>\n",
       "      <th>0</th>\n",
       "      <td>1</td>\n",
       "      <td>01:25 Min.</td>\n",
       "      <td>[{\"busstop\": \"Jayanagara 9th Block,JAYANAGARA ...</td>\n",
       "    </tr>\n",
       "    <tr>\n",
       "      <th>1</th>\n",
       "      <td>1E</td>\n",
       "      <td>01:45 Min.</td>\n",
       "      <td>[{\"busstop\": \"JPNagara 6th Phase,JP NAGARA 6TH...</td>\n",
       "    </tr>\n",
       "    <tr>\n",
       "      <th>2</th>\n",
       "      <td>1F</td>\n",
       "      <td>00:50 Min.</td>\n",
       "      <td>[{\"busstop\": \"BTM Layout,BTM Layout 2nd Stage,...</td>\n",
       "    </tr>\n",
       "  </tbody>\n",
       "</table>\n",
       "</div>"
      ],
      "text/plain": [
       "  route_no        time                                   map_json_content\n",
       "0        1  01:25 Min.  [{\"busstop\": \"Jayanagara 9th Block,JAYANAGARA ...\n",
       "1       1E  01:45 Min.  [{\"busstop\": \"JPNagara 6th Phase,JP NAGARA 6TH...\n",
       "2       1F  00:50 Min.  [{\"busstop\": \"BTM Layout,BTM Layout 2nd Stage,..."
      ]
     },
     "execution_count": 2,
     "metadata": {},
     "output_type": "execute_result"
    }
   ],
   "source": [
    "data[:3][['route_no', 'time', 'map_json_content']]"
   ]
  },
  {
   "cell_type": "markdown",
   "metadata": {
    "slideshow": {
     "slide_type": "fragment"
    }
   },
   "source": [
    "We use the data downloaded from Uber using `scripts/download-uber-data.py`. The data contains mean travel time in seconds for different days of the week, and a mean for travel times in different durations of the day. "
   ]
  },
  {
   "cell_type": "code",
   "execution_count": 3,
   "metadata": {
    "slideshow": {
     "slide_type": "subslide"
    }
   },
   "outputs": [
    {
     "name": "stdout",
     "output_type": "stream",
     "text": [
      " Route no. --    BMTC    || Uber estimate\n",
      "         1 -- 01:25 Min. || 01:01 Min.\n",
      "        1E -- 01:45 Min. || 01:17 Min.\n",
      "        1F -- 00:50 Min. || 00:38 Min.\n",
      "     CCC-1 -- 00:55 Min. || 00:19 Min.\n",
      "     FDR-1 -- 01:20 Min. || 00:45 Min.\n",
      "       G-1 -- 01:35 Min. || 01:00 Min.\n",
      "       K-1 -- 02:10 Min. || 01:24 Min.\n",
      "     KHC-1 -- 00:50 Min. || 00:39 Min.\n",
      "      MF-1 -- 00:55 Min. || 00:15 Min.\n",
      "    NLMF-1 -- 00:35 Min. || 00:20 Min.\n",
      "     WFS-1 -- 00:55 Min. || 00:59 Min.\n",
      "         2 -- 00:45 Min. || 00:44 Min.\n",
      "        2A -- 00:45 Min. || 00:39 Min.\n",
      "        2B -- 00:50 Min. || 00:54 Min.\n",
      "        2D -- 00:40 Min. || 00:49 Min.\n",
      "* implies data for travel time for some ward pairs is missing\n"
     ]
    }
   ],
   "source": [
    "print('{:>10} -- {:^10} || {}'.format('Route no.', 'BMTC', 'Uber estimate'))\n",
    "for index in range(15):\n",
    "    r = data.loc[index]\n",
    "    (hours, minutes), missing_data = estimate_travel_time(r)\n",
    "    end = '*\\n' if missing_data else '\\n'\n",
    "    print('{:>10} -- {} || {:02}:{:02} Min.'.format(r.route_no.strip(), r.time.strip(), hours, minutes), end=end)\n",
    "print('* implies data for travel time for some ward pairs is missing')"
   ]
  },
  {
   "cell_type": "markdown",
   "metadata": {
    "slideshow": {
     "slide_type": "subslide"
    }
   },
   "source": [
    "For the first few routes in the BMTC dataset, we compare the BMTC provided durations against our estimates using the Uber data.  Wow! Some of our estimates are 3-4 times the estimates given by BMTC. What's going on here?"
   ]
  },
  {
   "cell_type": "markdown",
   "metadata": {
    "slideshow": {
     "slide_type": "fragment"
    }
   },
   "source": [
    "Let's dig a little deeper, and see why our estimate for the first route looks the way it does!"
   ]
  },
  {
   "cell_type": "code",
   "execution_count": 4,
   "metadata": {
    "slideshow": {
     "slide_type": "subslide"
    }
   },
   "outputs": [],
   "source": [
    "route = data.loc[0]"
   ]
  },
  {
   "cell_type": "code",
   "execution_count": 5,
   "metadata": {
    "slideshow": {
     "slide_type": "fragment"
    }
   },
   "outputs": [
    {
     "data": {
      "text/plain": [
       "[(168, 'Pattabhiram Nagar'),\n",
       " (169, 'Byrasandra'),\n",
       " (167, 'Yediyur'),\n",
       " (154, 'Basavanagudi'),\n",
       " (142, 'Sunkenahalli'),\n",
       " (140, 'Chamrajapet'),\n",
       " (139, 'K R Market'),\n",
       " (138, 'Chalavadipalya'),\n",
       " (95, 'Subhash Nagar'),\n",
       " (94, 'Gandhinagar'),\n",
       " (65, 'Kadu Malleshwar Ward'),\n",
       " (35, 'Aramane Nagara'),\n",
       " (45, 'Malleswaram'),\n",
       " (44, 'Marappana Palya'),\n",
       " (38, 'HMT Ward')]"
      ]
     },
     "execution_count": 5,
     "metadata": {},
     "output_type": "execute_result"
    }
   ],
   "source": [
    "route_1_wards = route_to_wards(route)\n",
    "route_1_wards"
   ]
  },
  {
   "cell_type": "markdown",
   "metadata": {
    "slideshow": {
     "slide_type": "subslide"
    }
   },
   "source": [
    "We fetch the wards for each bus stop and get a unique list of ward-hops on the bus route.  They seem reasonable, on manual verification. "
   ]
  }
 ],
 "metadata": {
  "kernelspec": {
   "display_name": "Python 3",
   "language": "python",
   "name": "python3"
  },
  "language_info": {
   "codemirror_mode": {
    "name": "ipython",
    "version": 3
   },
   "file_extension": ".py",
   "mimetype": "text/x-python",
   "name": "python",
   "nbconvert_exporter": "python",
   "pygments_lexer": "ipython3",
   "version": "3.7.3"
  }
 },
 "nbformat": 4,
 "nbformat_minor": 2
}
